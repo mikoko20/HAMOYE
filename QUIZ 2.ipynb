{
 "cells": [
  {
   "cell_type": "code",
   "execution_count": 1,
   "metadata": {},
   "outputs": [],
   "source": [
    "import pandas as pd\n",
    "import numpy as np\n",
    "from sklearn.preprocessing import MinMaxScaler\n",
    "from sklearn.metrics import mean_squared_error,r2_score,mean_absolute_error\n",
    "from sklearn.linear_model import Lasso,Ridge,LinearRegression\n",
    "from sklearn.model_selection import train_test_split"
   ]
  },
  {
   "cell_type": "code",
   "execution_count": 2,
   "metadata": {},
   "outputs": [],
   "source": [
    "energy = pd.read_csv(\"energydata_complete.csv\",parse_dates= ['date'])\n",
    "energy.drop(['date','lights'],axis = 1,inplace = True)\n",
    "def RSS(y_true,y_pred):\n",
    "    rss = np.sum(np.square(y_true - y_pred))\n",
    "    return rss"
   ]
  },
  {
   "cell_type": "code",
   "execution_count": 3,
   "metadata": {},
   "outputs": [],
   "source": [
    "scaler = MinMaxScaler()\n",
    "kk = energy.drop(['Appliances'],axis = 1)\n",
    "scaled_data = scaler.fit_transform(kk)"
   ]
  },
  {
   "cell_type": "code",
   "execution_count": 4,
   "metadata": {},
   "outputs": [],
   "source": [
    "X = scaled_data\n",
    "y = energy.Appliances\n",
    "X_train, X_test, y_train, y_test = train_test_split(X, y, test_size=0.30, random_state=42)"
   ]
  },
  {
   "cell_type": "code",
   "execution_count": 5,
   "metadata": {},
   "outputs": [],
   "source": [
    "las_lr = Lasso(alpha =0.001,random_state=42).fit(X_train,y_train)\n",
    "las_pred = las_lr.predict(X_test)"
   ]
  },
  {
   "cell_type": "code",
   "execution_count": 6,
   "metadata": {},
   "outputs": [
    {
     "data": {
      "text/plain": [
       "array([  -4.14712394,  590.59982716, -249.46879771, -484.56533287,\n",
       "        310.21038378,  102.20461099,   30.34519749,   27.44590464,\n",
       "        -17.11872329,   17.10332116,  250.08097851,   40.09288319,\n",
       "         10.34680867,  -47.38909406,  108.88342254, -168.69547613,\n",
       "       -202.5025445 ,  -42.45510038, -332.57169255,    7.28215443,\n",
       "        -78.00038519,   31.38951445,   13.07831882,  118.5980301 ,\n",
       "          1.63117421,    0.        ])"
      ]
     },
     "execution_count": 6,
     "metadata": {},
     "output_type": "execute_result"
    }
   ],
   "source": [
    "las_lr.coef_"
   ]
  },
  {
   "cell_type": "code",
   "execution_count": 7,
   "metadata": {},
   "outputs": [],
   "source": [
    "def prints(y_true,y_pred):\n",
    "    print('Mean absolute error : ',mean_absolute_error(y_true,y_pred))\n",
    "    print('RMSE : ', np.sqrt(mean_squared_error(y_true,y_pred)))\n",
    "    print('Sum of squared residuals(RSS) : ', RSS(y_true,y_pred))\n",
    "    print('R2_score: ',r2_score(y_true,y_pred))"
   ]
  },
  {
   "cell_type": "code",
   "execution_count": 8,
   "metadata": {},
   "outputs": [
    {
     "name": "stdout",
     "output_type": "stream",
     "text": [
      "Mean absolute error :  53.63021543531109\n",
      "RMSE :  93.64067509185512\n",
      "Sum of squared residuals(RSS) :  51918738.68344923\n",
      "R2_score:  0.14889857033860576\n"
     ]
    }
   ],
   "source": [
    "prints(y_test,las_pred)"
   ]
  },
  {
   "cell_type": "code",
   "execution_count": 9,
   "metadata": {},
   "outputs": [],
   "source": [
    "ridge_lr = Ridge(alpha=0.4).fit(X_train,y_train)\n",
    "ridge_pred = ridge_lr.predict(X_test)\n",
    "ridge_w = pd.DataFrame(ridge_lr.coef_,index=kk.columns,columns = ['Ridge'])"
   ]
  },
  {
   "cell_type": "code",
   "execution_count": 10,
   "metadata": {},
   "outputs": [
    {
     "name": "stdout",
     "output_type": "stream",
     "text": [
      "Mean absolute error :  53.593567049788426\n",
      "RMSE :  93.66122703951963\n",
      "Sum of squared residuals(RSS) :  51941531.09269732\n",
      "R2_score:  0.14852493545092582\n"
     ]
    }
   ],
   "source": [
    "prints(y_test,ridge_pred)"
   ]
  },
  {
   "cell_type": "code",
   "execution_count": null,
   "metadata": {},
   "outputs": [],
   "source": []
  }
 ],
 "metadata": {
  "kernelspec": {
   "display_name": "Python 3",
   "language": "python",
   "name": "python3"
  },
  "language_info": {
   "codemirror_mode": {
    "name": "ipython",
    "version": 3
   },
   "file_extension": ".py",
   "mimetype": "text/x-python",
   "name": "python",
   "nbconvert_exporter": "python",
   "pygments_lexer": "ipython3",
   "version": "3.7.6"
  }
 },
 "nbformat": 4,
 "nbformat_minor": 4
}
